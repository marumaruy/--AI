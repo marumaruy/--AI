{
 "cells": [
  {
   "cell_type": "code",
   "execution_count": null,
   "metadata": {},
   "outputs": [],
   "source": [
    "import matplotlib.pyplot as plt \n",
    "import cv2\n",
    "\n",
    "##カスケードファイルを指定##\n",
    "cascade_file = \"lbpcascade_animeface.xml\"\n",
    "cascade = cv2.CascadeClassifier(cascade_file)\n",
    "\n",
    "##画像の読み込み##\n",
    "img = cv2.imread(\"emosuke.jpg\")\n",
    "img_gray = cv2.cvtColor(img,cv2.COLOR_BGR2GRAY)\n",
    "\n",
    "##顔認識の実行##\n",
    "face_list = cascade.detectMultiScale(img_gray,minSize = (int(input()),int(input())) )\n",
    "\n",
    "##結果の確認##\n",
    "if len(face_list) == 0:\n",
    "    print(\"残念\")\n",
    "    quit()\n",
    "\n",
    "##認識部分に印を付与##\n",
    "for (x,y,w,h) in face_list:\n",
    "    print(\"顔の座標:\",x,y,w,h)\n",
    "    red = (0,0,255)\n",
    "    cv2.rectangle(img ,( x , y) ,(x+w , y + h) , red , thickness = 20  )\n",
    "    \n",
    "##画像の出力##\n",
    "plt.imshow(cv2.cvtColor(img,cv2.COLOR_BGR2RGB))\n",
    "plt.show()"
   ]
  }
 ],
 "metadata": {
  "kernelspec": {
   "display_name": "Python 3",
   "language": "python",
   "name": "python3"
  },
  "language_info": {
   "codemirror_mode": {
    "name": "ipython",
    "version": 3
   },
   "file_extension": ".py",
   "mimetype": "text/x-python",
   "name": "python",
   "nbconvert_exporter": "python",
   "pygments_lexer": "ipython3",
   "version": "3.7.3"
  }
 },
 "nbformat": 4,
 "nbformat_minor": 2
}
